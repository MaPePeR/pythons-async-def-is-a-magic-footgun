{
 "cells": [
  {
   "attachments": {},
   "cell_type": "markdown",
   "metadata": {},
   "source": [
    "# Python's `async def` is a magic footgun\n",
    "\n",
    "Recently I took a deep dive into asynchronous python libraries and found a lot of them that used `async def` methods in places that makes them loose a lot of their benefits.\n",
    "\n",
    "See this example where we do I/O (e.g. reading or writing a file, using a socket, waiting for a server response, ...) asynchronously in the background while doing some other stuff with the thread.\n",
    "The time required for IO should be completely shadowed by our computation, without even using additional resources, because it is handled asynchronously by the OS, drivers and hardware. Brilliant!"
   ]
  },
  {
   "cell_type": "code",
   "execution_count": 1,
   "metadata": {
    "tags": [
     "hide-input"
    ]
   },
   "outputs": [],
   "source": [
    "import time\n",
    "import asyncio\n",
    "import gc\n",
    "\n",
    "WORK_TIME = 2\n",
    "WRITE_TIME = 1\n",
    "\n",
    "logstart = None\n",
    "def log(*args, start: bool = False, color=\"0\", **kwargs):\n",
    "    global logstart\n",
    "    current = time.time()\n",
    "    if start:\n",
    "        logstart = current\n",
    "    \n",
    "    print(f\"\\x1b[{color}m{current - logstart:2.2f}\", *args, \"\\x1b[0m\", **kwargs)\n",
    "\n",
    "write_lock = asyncio.Lock()\n",
    "# Don't look at these function too hard before reading the rest of the text. Contains spoilers.\n",
    "def os_async_write(i, lock=False):\n",
    "    log(f\"[W{i}] >>> OS started writing {i}\", color=\"94\")\n",
    "    if not lock:\n",
    "        async def _wait_for_write(sleep_awaitable):\n",
    "            await sleep_awaitable\n",
    "            log(f\"[W{i}] <<< OS done writing {i}\", color=\"94\")\n",
    "        return _wait_for_write(async_sleep(WRITE_TIME))\n",
    "\n",
    "    lock_awaitable = write_lock.acquire()\n",
    "    async def _wait_for_write(lock_awaitable):\n",
    "        await lock_awaitable\n",
    "        try:\n",
    "            await async_sleep(WRITE_TIME)\n",
    "        finally:\n",
    "            if lock:\n",
    "                write_lock.release()\n",
    "    return _wait_for_write(lock_awaitable)\n",
    "\n",
    "def async_sleep(t):\n",
    "    # asyncio.sleep() is a coroutine, so it also messes with the time, because the delay does not start when the coroutine is created\n",
    "    future = asyncio.Future()\n",
    "    asyncio.get_running_loop().call_later(t, future.set_result, None)\n",
    "    return future"
   ]
  },
  {
   "cell_type": "code",
   "execution_count": 2,
   "metadata": {},
   "outputs": [],
   "source": [
    "async def write_output_async(i, lock=False):\n",
    "    log(f\"[O{i}] >> Tell OS to write output {i}\")\n",
    "    await os_async_write(i, lock=lock)\n",
    "    log(f\"[O{i}] << OS writing completed {i}\")\n",
    "\n",
    "def do_cpu_work(i):\n",
    "    log(f\"[X{i}] > Starting 10s CPU work {i}\", color=\"93\")\n",
    "    time.sleep(WORK_TIME)\n",
    "    gc.collect()\n",
    "    log(f\"[X{i}] < Done with 10s CPU work {i}\", color=\"93\")"
   ]
  },
  {
   "cell_type": "code",
   "execution_count": 3,
   "metadata": {},
   "outputs": [
    {
     "name": "stdout",
     "output_type": "stream",
     "text": [
      "\u001b[0m0.00 Starting \u001b[0m\n",
      "\u001b[93m0.00 [X0] > Starting 10s CPU work 0 \u001b[0m\n",
      "\u001b[93m2.02 [X0] < Done with 10s CPU work 0 \u001b[0m\n",
      "\u001b[0m2.02 [O0] >> Tell OS to write output 0 \u001b[0m\n",
      "\u001b[94m2.02 [W0] >>> OS started writing 0 \u001b[0m\n",
      "\u001b[94m3.03 [W0] <<< OS done writing 0 \u001b[0m\n",
      "\u001b[0m3.03 [O0] << OS writing completed 0 \u001b[0m\n",
      "\u001b[93m3.03 [X1] > Starting 10s CPU work 1 \u001b[0m\n",
      "\u001b[93m5.05 [X1] < Done with 10s CPU work 1 \u001b[0m\n",
      "\u001b[0m5.05 [O1] >> Tell OS to write output 1 \u001b[0m\n",
      "\u001b[94m5.05 [W1] >>> OS started writing 1 \u001b[0m\n",
      "\u001b[94m6.07 [W1] <<< OS done writing 1 \u001b[0m\n",
      "\u001b[0m6.07 [O1] << OS writing completed 1 \u001b[0m\n",
      "\u001b[93m6.07 [X2] > Starting 10s CPU work 2 \u001b[0m\n",
      "\u001b[93m8.09 [X2] < Done with 10s CPU work 2 \u001b[0m\n",
      "\u001b[0m8.09 [O2] >> Tell OS to write output 2 \u001b[0m\n",
      "\u001b[94m8.09 [W2] >>> OS started writing 2 \u001b[0m\n",
      "\u001b[94m9.10 [W2] <<< OS done writing 2 \u001b[0m\n",
      "\u001b[0m9.10 [O2] << OS writing completed 2 \u001b[0m\n",
      "\u001b[0m9.10 Done \u001b[0m\n"
     ]
    }
   ],
   "source": [
    "async def example1_await_immediately():\n",
    "    log(\"Starting\", start=True)\n",
    "    for i in range(3):\n",
    "        do_cpu_work(i)\n",
    "        await write_output_async(i)\n",
    "    log(\"Done\")\n",
    "\n",
    "await example1_await_immediately()"
   ]
  },
  {
   "attachments": {},
   "cell_type": "markdown",
   "metadata": {},
   "source": [
    "Oh, never mind. There is an obvious error in this example. Because the method is awaited immediately, we cannot do any work during the IO.\n",
    "\n",
    "Easy fix: Just call the function, but `await` it before the next output is to be written. The IO is clearly finished then, so await will return immediately, saving us time."
   ]
  },
  {
   "cell_type": "code",
   "execution_count": 4,
   "metadata": {},
   "outputs": [
    {
     "name": "stdout",
     "output_type": "stream",
     "text": [
      "\u001b[0m0.00 Starting \u001b[0m\n",
      "\u001b[93m0.00 [X0] > Starting 10s CPU work 0 \u001b[0m\n",
      "\u001b[93m2.02 [X0] < Done with 10s CPU work 0 \u001b[0m\n",
      "\u001b[93m2.02 [X1] > Starting 10s CPU work 1 \u001b[0m\n",
      "\u001b[93m4.04 [X1] < Done with 10s CPU work 1 \u001b[0m\n",
      "\u001b[0m4.04 [O0] >> Tell OS to write output 0 \u001b[0m\n",
      "\u001b[94m4.04 [W0] >>> OS started writing 0 \u001b[0m\n",
      "\u001b[94m5.04 [W0] <<< OS done writing 0 \u001b[0m\n",
      "\u001b[0m5.04 [O0] << OS writing completed 0 \u001b[0m\n",
      "\u001b[93m5.04 [X2] > Starting 10s CPU work 2 \u001b[0m\n",
      "\u001b[93m7.06 [X2] < Done with 10s CPU work 2 \u001b[0m\n",
      "\u001b[0m7.06 [O1] >> Tell OS to write output 1 \u001b[0m\n",
      "\u001b[94m7.06 [W1] >>> OS started writing 1 \u001b[0m\n",
      "\u001b[94m8.08 [W1] <<< OS done writing 1 \u001b[0m\n",
      "\u001b[0m8.08 [O1] << OS writing completed 1 \u001b[0m\n",
      "\u001b[0m8.08 [O2] >> Tell OS to write output 2 \u001b[0m\n",
      "\u001b[94m8.08 [W2] >>> OS started writing 2 \u001b[0m\n",
      "\u001b[94m9.08 [W2] <<< OS done writing 2 \u001b[0m\n",
      "\u001b[0m9.08 [O2] << OS writing completed 2 \u001b[0m\n",
      "\u001b[0m9.08 Done \u001b[0m\n"
     ]
    }
   ],
   "source": [
    "async def example2_await_before_next_write():\n",
    "    log(\"Starting\", start=True)\n",
    "    lastWrite = None\n",
    "    for i in range(3):\n",
    "        do_cpu_work(i)\n",
    "        if lastWrite:\n",
    "            await lastWrite\n",
    "        lastWrite = write_output_async(i)\n",
    "    await lastWrite\n",
    "    log(\"Done\")\n",
    "\n",
    "await example2_await_before_next_write()"
   ]
  },
  {
   "attachments": {},
   "cell_type": "markdown",
   "metadata": {},
   "source": [
    "Oh... Now the IO is running after our second CPU work instead of before, but we still haven't got any speed improvements. "
   ]
  },
  {
   "attachments": {},
   "cell_type": "markdown",
   "metadata": {},
   "source": [
    "## `asyncio.gather` and `TaskGroup`\n",
    "\n",
    "Instead of waiting inside the loop for a white, that could have happened during our other computations, let's move the waiting outside the loop with `asyncio.gather`"
   ]
  },
  {
   "cell_type": "code",
   "execution_count": 5,
   "metadata": {},
   "outputs": [
    {
     "name": "stdout",
     "output_type": "stream",
     "text": [
      "\u001b[0m0.00 Starting \u001b[0m\n",
      "\u001b[93m0.00 [X0] > Starting 10s CPU work 0 \u001b[0m\n",
      "\u001b[93m2.02 [X0] < Done with 10s CPU work 0 \u001b[0m\n",
      "\u001b[93m2.02 [X1] > Starting 10s CPU work 1 \u001b[0m\n",
      "\u001b[93m4.04 [X1] < Done with 10s CPU work 1 \u001b[0m\n",
      "\u001b[93m4.04 [X2] > Starting 10s CPU work 2 \u001b[0m\n",
      "\u001b[93m6.07 [X2] < Done with 10s CPU work 2 \u001b[0m\n",
      "\u001b[0m6.07 [O0] >> Tell OS to write output 0 \u001b[0m\n",
      "\u001b[94m6.07 [W0] >>> OS started writing 0 \u001b[0m\n",
      "\u001b[0m6.07 [O1] >> Tell OS to write output 1 \u001b[0m\n",
      "\u001b[94m6.07 [W1] >>> OS started writing 1 \u001b[0m\n",
      "\u001b[0m6.07 [O2] >> Tell OS to write output 2 \u001b[0m\n",
      "\u001b[94m6.07 [W2] >>> OS started writing 2 \u001b[0m\n",
      "\u001b[94m7.07 [W0] <<< OS done writing 0 \u001b[0m\n",
      "\u001b[0m7.07 [O0] << OS writing completed 0 \u001b[0m\n",
      "\u001b[94m7.07 [W1] <<< OS done writing 1 \u001b[0m\n",
      "\u001b[0m7.07 [O1] << OS writing completed 1 \u001b[0m\n",
      "\u001b[94m7.07 [W2] <<< OS done writing 2 \u001b[0m\n",
      "\u001b[0m7.07 [O2] << OS writing completed 2 \u001b[0m\n",
      "\u001b[0m7.07 Done \u001b[0m\n"
     ]
    }
   ],
   "source": [
    "async def example3_gather():\n",
    "    log(\"Starting\", start=True)\n",
    "    writes = []\n",
    "    for i in range(3):\n",
    "        do_cpu_work(i)\n",
    "        writes.append(write_output_async(i))\n",
    "    await asyncio.gather(*writes)\n",
    "    log(\"Done\")\n",
    "\n",
    "await example3_gather()"
   ]
  },
  {
   "attachments": {},
   "cell_type": "markdown",
   "metadata": {},
   "source": [
    "This way we saved some time, because all our writes were executed in parallel.\n",
    "But they weren't started until all processes were completed, so a lot of time was wasted.\n",
    "The same can be achieved by using a `TaskGroup`"
   ]
  },
  {
   "cell_type": "code",
   "execution_count": 6,
   "metadata": {},
   "outputs": [
    {
     "name": "stdout",
     "output_type": "stream",
     "text": [
      "\u001b[0m0.00 Starting \u001b[0m\n",
      "\u001b[93m0.00 [X0] > Starting 10s CPU work 0 \u001b[0m\n",
      "\u001b[93m2.02 [X0] < Done with 10s CPU work 0 \u001b[0m\n",
      "\u001b[93m2.02 [X1] > Starting 10s CPU work 1 \u001b[0m\n",
      "\u001b[93m4.04 [X1] < Done with 10s CPU work 1 \u001b[0m\n",
      "\u001b[93m4.04 [X2] > Starting 10s CPU work 2 \u001b[0m\n",
      "\u001b[93m6.06 [X2] < Done with 10s CPU work 2 \u001b[0m\n",
      "\u001b[0m6.06 [O0] >> Tell OS to write output 0 \u001b[0m\n",
      "\u001b[94m6.06 [W0] >>> OS started writing 0 \u001b[0m\n",
      "\u001b[0m6.06 [O1] >> Tell OS to write output 1 \u001b[0m\n",
      "\u001b[94m6.06 [W1] >>> OS started writing 1 \u001b[0m\n",
      "\u001b[0m6.06 [O2] >> Tell OS to write output 2 \u001b[0m\n",
      "\u001b[94m6.06 [W2] >>> OS started writing 2 \u001b[0m\n",
      "\u001b[94m7.07 [W0] <<< OS done writing 0 \u001b[0m\n",
      "\u001b[0m7.07 [O0] << OS writing completed 0 \u001b[0m\n",
      "\u001b[94m7.07 [W1] <<< OS done writing 1 \u001b[0m\n",
      "\u001b[0m7.07 [O1] << OS writing completed 1 \u001b[0m\n",
      "\u001b[94m7.07 [W2] <<< OS done writing 2 \u001b[0m\n",
      "\u001b[0m7.07 [O2] << OS writing completed 2 \u001b[0m\n",
      "\u001b[0m7.07 Done \u001b[0m\n"
     ]
    }
   ],
   "source": [
    "async def example4_taskgroup_create_task_outside_loop():\n",
    "    log(\"Starting\", start=True)\n",
    "    async with asyncio.TaskGroup() as tg:\n",
    "        for i in range(3):\n",
    "            do_cpu_work(i)\n",
    "            tg.create_task(write_output_async(i))\n",
    "    log(\"Done\")\n",
    "\n",
    "await example4_taskgroup_create_task_outside_loop()"
   ]
  },
  {
   "attachments": {},
   "cell_type": "markdown",
   "metadata": {},
   "source": [
    "This left all writing to the very end and then wrote all output in parallel again, which might not be realistic, though.\n",
    "\n",
    "If we write to a socket or append a linear file, only a single write can happen at a time. Lets simulate that here by requiring a lock around the simulated writing."
   ]
  },
  {
   "cell_type": "code",
   "execution_count": 7,
   "metadata": {},
   "outputs": [
    {
     "name": "stdout",
     "output_type": "stream",
     "text": [
      "\u001b[0m0.00 Starting \u001b[0m\n",
      "\u001b[93m0.00 [X0] > Starting 10s CPU work 0 \u001b[0m\n",
      "\u001b[93m2.02 [X0] < Done with 10s CPU work 0 \u001b[0m\n",
      "\u001b[93m2.02 [X1] > Starting 10s CPU work 1 \u001b[0m\n",
      "\u001b[93m4.04 [X1] < Done with 10s CPU work 1 \u001b[0m\n",
      "\u001b[93m4.04 [X2] > Starting 10s CPU work 2 \u001b[0m\n",
      "\u001b[93m6.06 [X2] < Done with 10s CPU work 2 \u001b[0m\n",
      "\u001b[0m6.06 [O0] >> Tell OS to write output 0 \u001b[0m\n",
      "\u001b[94m6.06 [W0] >>> OS started writing 0 \u001b[0m\n",
      "\u001b[0m6.06 [O1] >> Tell OS to write output 1 \u001b[0m\n",
      "\u001b[94m6.06 [W1] >>> OS started writing 1 \u001b[0m\n",
      "\u001b[0m6.06 [O2] >> Tell OS to write output 2 \u001b[0m\n",
      "\u001b[94m6.06 [W2] >>> OS started writing 2 \u001b[0m\n",
      "\u001b[0m7.07 [O0] << OS writing completed 0 \u001b[0m\n",
      "\u001b[0m8.08 [O1] << OS writing completed 1 \u001b[0m\n",
      "\u001b[0m9.09 [O2] << OS writing completed 2 \u001b[0m\n",
      "\u001b[0m9.09 Done \u001b[0m\n"
     ]
    }
   ],
   "source": [
    "async def example5_taskgroup_create_task_outside_loop_with_lock():\n",
    "    log(\"Starting\", start=True)\n",
    "    async with asyncio.TaskGroup() as tg:\n",
    "        for i in range(3):\n",
    "            do_cpu_work(i)\n",
    "            tg.create_task(write_output_async(i, lock=True))\n",
    "    log(\"Done\")\n",
    "\n",
    "await example5_taskgroup_create_task_outside_loop_with_lock()"
   ]
  },
  {
   "attachments": {},
   "cell_type": "markdown",
   "metadata": {},
   "source": [
    "And all our speedup is gone again."
   ]
  },
  {
   "attachments": {},
   "cell_type": "markdown",
   "metadata": {},
   "source": [
    "## Explanation\n",
    "\n",
    "Why is this happening? The [`asyncio` documentation](https://docs.python.org/3/library/asyncio-task.html#coroutines) has the explanation:\n",
    "\n",
    "> Note that simply calling a coroutine will not schedule it to be executed:\n",
    ">\n",
    "> ```python\n",
    "> >>> main()\n",
    "> <coroutine object main at 0x1053bb7c8>\n",
    "> ```\n",
    "\n",
    "Even though Python provides the exact same `async`/`await` syntax as JavaScript it works a lot different in [JavaScript](https://developer.mozilla.org/en-US/docs/Web/JavaScript/Reference/Statements/async_function#description):\n",
    "\n",
    "> The body of an async function can be thought of as being split by zero or more await expressions. Top-level code, up to and including the first await expression (if there is one), is run synchronously. In this way, an async function without an await expression will run synchronously. If there is an await expression inside the function body, however, the async function will always complete asynchronously.\n",
    "\n",
    "This even applies to the [JavaScript `Promise` implementation](https://developer.mozilla.org/en-US/docs/Web/JavaScript/Reference/Global_Objects/Promise):\n",
    "\n",
    "> This promise is already resolved at the time when it's created (because the `resolveOuter` is called synchronously)"
   ]
  },
  {
   "attachments": {},
   "cell_type": "markdown",
   "metadata": {},
   "source": [
    "So, simply calling an `async` method does not start its execution. For it to be executed, it has to be awaited or turned into a task. Directly awaiting didn't help in the first attempts, so let's turn the coroutine into a task."
   ]
  },
  {
   "cell_type": "code",
   "execution_count": 8,
   "metadata": {},
   "outputs": [
    {
     "name": "stdout",
     "output_type": "stream",
     "text": [
      "\u001b[0m0.00 Starting \u001b[0m\n",
      "\u001b[93m0.00 [X0] > Starting 10s CPU work 0 \u001b[0m\n",
      "\u001b[93m2.02 [X0] < Done with 10s CPU work 0 \u001b[0m\n",
      "\u001b[93m2.02 [X1] > Starting 10s CPU work 1 \u001b[0m\n",
      "\u001b[93m4.04 [X1] < Done with 10s CPU work 1 \u001b[0m\n",
      "\u001b[0m4.04 [O0] >> Tell OS to write output 0 \u001b[0m\n",
      "\u001b[94m4.04 [W0] >>> OS started writing 0 \u001b[0m\n",
      "\u001b[94m5.05 [W0] <<< OS done writing 0 \u001b[0m\n",
      "\u001b[0m5.05 [O0] << OS writing completed 0 \u001b[0m\n",
      "\u001b[93m5.05 [X2] > Starting 10s CPU work 2 \u001b[0m\n",
      "\u001b[93m7.07 [X2] < Done with 10s CPU work 2 \u001b[0m\n",
      "\u001b[0m7.07 [O1] >> Tell OS to write output 1 \u001b[0m\n",
      "\u001b[94m7.07 [W1] >>> OS started writing 1 \u001b[0m\n",
      "\u001b[94m8.09 [W1] <<< OS done writing 1 \u001b[0m\n",
      "\u001b[0m8.09 [O1] << OS writing completed 1 \u001b[0m\n",
      "\u001b[0m8.09 [O2] >> Tell OS to write output 2 \u001b[0m\n",
      "\u001b[94m8.09 [W2] >>> OS started writing 2 \u001b[0m\n",
      "\u001b[94m9.10 [W2] <<< OS done writing 2 \u001b[0m\n",
      "\u001b[0m9.10 [O2] << OS writing completed 2 \u001b[0m\n",
      "\u001b[0m9.10 Done \u001b[0m\n"
     ]
    }
   ],
   "source": [
    "async def example6_await_before_next_write_with_task():\n",
    "    log(\"Starting\", start=True)\n",
    "    lastWrite = None\n",
    "    for i in range(3):\n",
    "        do_cpu_work(i)\n",
    "        if lastWrite:\n",
    "            await lastWrite\n",
    "        lastWrite = asyncio.create_task(write_output_async(i))\n",
    "    await lastWrite\n",
    "    log(\"Done\")\n",
    "\n",
    "await example6_await_before_next_write_with_task()"
   ]
  },
  {
   "attachments": {},
   "cell_type": "markdown",
   "metadata": {},
   "source": [
    "Still no improvements. The same result as `example2_await_before_next_write`: No asynchronous writing.\n",
    "\n",
    "The task was created, but because nothing else was ever awaited, the event loop never started executing our task, so it couldn't start our IO asynchronously."
   ]
  },
  {
   "attachments": {},
   "cell_type": "markdown",
   "metadata": {},
   "source": [
    "## Sleeping to work faster\n",
    "\n",
    "Let's force our event loop to switch to a different task after creating it. This can be achieved with `await asyncio.sleep(0)` (or any other `await` call).\n",
    "The Tasks still have to be created, though."
   ]
  },
  {
   "cell_type": "code",
   "execution_count": 9,
   "metadata": {},
   "outputs": [
    {
     "name": "stdout",
     "output_type": "stream",
     "text": [
      "\u001b[0m0.00 Starting \u001b[0m\n",
      "\u001b[93m0.00 [X0] > Starting 10s CPU work 0 \u001b[0m\n",
      "\u001b[93m2.02 [X0] < Done with 10s CPU work 0 \u001b[0m\n",
      "\u001b[0m2.02 [O0] >> Tell OS to write output 0 \u001b[0m\n",
      "\u001b[94m2.02 [W0] >>> OS started writing 0 \u001b[0m\n",
      "\u001b[93m2.02 [X1] > Starting 10s CPU work 1 \u001b[0m\n",
      "\u001b[93m4.04 [X1] < Done with 10s CPU work 1 \u001b[0m\n",
      "\u001b[94m4.04 [W0] <<< OS done writing 0 \u001b[0m\n",
      "\u001b[0m4.04 [O0] << OS writing completed 0 \u001b[0m\n",
      "\u001b[0m4.04 [O1] >> Tell OS to write output 1 \u001b[0m\n",
      "\u001b[94m4.04 [W1] >>> OS started writing 1 \u001b[0m\n",
      "\u001b[93m4.04 [X2] > Starting 10s CPU work 2 \u001b[0m\n",
      "\u001b[93m6.06 [X2] < Done with 10s CPU work 2 \u001b[0m\n",
      "\u001b[94m6.06 [W1] <<< OS done writing 1 \u001b[0m\n",
      "\u001b[0m6.06 [O1] << OS writing completed 1 \u001b[0m\n",
      "\u001b[0m6.06 [O2] >> Tell OS to write output 2 \u001b[0m\n",
      "\u001b[94m6.06 [W2] >>> OS started writing 2 \u001b[0m\n",
      "\u001b[0m6.06 Awaiting last write \u001b[0m\n",
      "\u001b[94m7.07 [W2] <<< OS done writing 2 \u001b[0m\n",
      "\u001b[0m7.07 [O2] << OS writing completed 2 \u001b[0m\n",
      "\u001b[0m7.07 Done \u001b[0m\n"
     ]
    }
   ],
   "source": [
    "async def example7_sleep_with_task():\n",
    "    log(\"Starting\", start=True)\n",
    "    lastWrite = None\n",
    "    for i in range(3):\n",
    "        do_cpu_work(i)\n",
    "        if lastWrite:\n",
    "            await lastWrite\n",
    "        lastWrite = asyncio.create_task(write_output_async(i))\n",
    "        await asyncio.sleep(0)\n",
    "    log(\"Awaiting last write\")\n",
    "    await lastWrite\n",
    "    log(\"Done\")\n",
    "\n",
    "await example7_sleep_with_task()"
   ]
  },
  {
   "attachments": {},
   "cell_type": "markdown",
   "metadata": {},
   "source": [
    "Finally! It took a lot of work to make this `async` function actually do work *asynchronously*, and the resulting code is everything but pretty.\n",
    "\n",
    "We have to create tasks now and call `asyncio.sleep` and then hope that it switches to the coroutine we want.\n",
    "\n",
    "Creating a lot of task can become a significant overhead in comparison to just awaiting a coroutine as well. [citation needed]"
   ]
  },
  {
   "attachments": {},
   "cell_type": "markdown",
   "metadata": {},
   "source": [
    "Using an `async for` loop with an `async` iterator is also not enough to yield control flow to the task.\n",
    "It only works if the iterator also uses `await`.\n",
    "We can also use a `TaskGroup` to make sure all our tasks are awaited."
   ]
  },
  {
   "cell_type": "code",
   "execution_count": 10,
   "metadata": {},
   "outputs": [
    {
     "name": "stdout",
     "output_type": "stream",
     "text": [
      "\u001b[0m0.00 Starting \u001b[0m\n",
      "\u001b[93m0.00 [X0] > Starting 10s CPU work 0 \u001b[0m\n",
      "\u001b[93m2.02 [X0] < Done with 10s CPU work 0 \u001b[0m\n",
      "\u001b[0m2.02 [O0] >> Tell OS to write output 0 \u001b[0m\n",
      "\u001b[94m2.02 [W0] >>> OS started writing 0 \u001b[0m\n",
      "\u001b[93m2.02 [X1] > Starting 10s CPU work 1 \u001b[0m\n",
      "\u001b[93m4.04 [X1] < Done with 10s CPU work 1 \u001b[0m\n",
      "\u001b[0m4.05 [O1] >> Tell OS to write output 1 \u001b[0m\n",
      "\u001b[94m4.05 [W1] >>> OS started writing 1 \u001b[0m\n",
      "\u001b[93m4.05 [X2] > Starting 10s CPU work 2 \u001b[0m\n",
      "\u001b[93m6.07 [X2] < Done with 10s CPU work 2 \u001b[0m\n",
      "\u001b[0m6.07 [O2] >> Tell OS to write output 2 \u001b[0m\n",
      "\u001b[94m6.07 [W2] >>> OS started writing 2 \u001b[0m\n",
      "\u001b[0m6.07 [O0] << OS writing completed 0 \u001b[0m\n",
      "\u001b[0m7.07 [O1] << OS writing completed 1 \u001b[0m\n",
      "\u001b[0m8.09 [O2] << OS writing completed 2 \u001b[0m\n",
      "\u001b[0m8.09 Done \u001b[0m\n"
     ]
    }
   ],
   "source": [
    "async def to_aiter(gen):\n",
    "    for i in gen:\n",
    "        yield i\n",
    "        await asyncio.sleep(0) # Without this we don't get asynchronous writes\n",
    "\n",
    "async def example9_task_with_async_for():\n",
    "    log(\"Starting\", start=True)\n",
    "    async with asyncio.TaskGroup() as tg:\n",
    "        async for i in to_aiter(range(3)):\n",
    "            do_cpu_work(i)\n",
    "            tg.create_task(write_output_async(i, lock=True))\n",
    "    log(\"Done\")\n",
    "\n",
    "await example9_task_with_async_for()"
   ]
  },
  {
   "attachments": {},
   "cell_type": "markdown",
   "metadata": {},
   "source": [
    "This moves all the output completions to the end of the taskgroup, though, which might be undesirable and also increases the total runtime."
   ]
  },
  {
   "attachments": {},
   "cell_type": "markdown",
   "metadata": {},
   "source": [
    "## Fixing the function\n",
    "\n",
    "The problem is, that our `async` function only creates a `coroutine` object, but does not immediately execute the first synchronous part of it, which includes initiating the write.\n",
    "\n",
    "Instead of an `async` function, a normal function is created, that directly initiates the asynchronous write calls and then calls an internal coroutine passing the `Awaitable` from the OS call.\n",
    "\n",
    "Because the fixed function is not `async` it cannot `await` the internal coroutine. But it can return it as a result, so the caller can await it. Since the first statement is an `await` it does not matter, that the coroutine isn't called immediately."
   ]
  },
  {
   "cell_type": "code",
   "execution_count": 11,
   "metadata": {},
   "outputs": [],
   "source": [
    "def write_output_awaitable(i, lock=False):\n",
    "    log(f\"[O{i}] << Tell OS to write output {i}\")\n",
    "    awaitable = os_async_write(i, lock=lock)\n",
    "\n",
    "    async def _wait_for_inner(awaitable):\n",
    "        await awaitable\n",
    "        log(f\"[O{i}] << OS writing completed {i}\")\n",
    "    return _wait_for_inner(awaitable)\n"
   ]
  },
  {
   "attachments": {},
   "cell_type": "markdown",
   "metadata": {},
   "source": [
    "Note that this only fixes it, if the called function *also* is not an `async` function, but just returns an `Awaitable` instead. The called function also has to initiate the write call immediately."
   ]
  },
  {
   "cell_type": "code",
   "execution_count": 12,
   "metadata": {},
   "outputs": [
    {
     "name": "stdout",
     "output_type": "stream",
     "text": [
      "\u001b[0m0.00 Starting \u001b[0m\n",
      "\u001b[93m0.00 [X0] > Starting 10s CPU work 0 \u001b[0m\n",
      "\u001b[93m2.02 [X0] < Done with 10s CPU work 0 \u001b[0m\n",
      "\u001b[0m2.02 [O0] << Tell OS to write output 0 \u001b[0m\n",
      "\u001b[94m2.02 [W0] >>> OS started writing 0 \u001b[0m\n",
      "\u001b[93m2.02 [X1] > Starting 10s CPU work 1 \u001b[0m\n",
      "\u001b[93m4.04 [X1] < Done with 10s CPU work 1 \u001b[0m\n",
      "\u001b[94m4.04 [W0] <<< OS done writing 0 \u001b[0m\n",
      "\u001b[0m4.04 [O0] << OS writing completed 0 \u001b[0m\n",
      "\u001b[0m4.04 [O1] << Tell OS to write output 1 \u001b[0m\n",
      "\u001b[94m4.04 [W1] >>> OS started writing 1 \u001b[0m\n",
      "\u001b[93m4.04 [X2] > Starting 10s CPU work 2 \u001b[0m\n",
      "\u001b[93m6.06 [X2] < Done with 10s CPU work 2 \u001b[0m\n",
      "\u001b[94m6.06 [W1] <<< OS done writing 1 \u001b[0m\n",
      "\u001b[0m6.06 [O1] << OS writing completed 1 \u001b[0m\n",
      "\u001b[0m6.06 [O2] << Tell OS to write output 2 \u001b[0m\n",
      "\u001b[94m6.06 [W2] >>> OS started writing 2 \u001b[0m\n",
      "\u001b[0m6.06 Awaiting last write \u001b[0m\n",
      "\u001b[94m7.08 [W2] <<< OS done writing 2 \u001b[0m\n",
      "\u001b[0m7.08 [O2] << OS writing completed 2 \u001b[0m\n",
      "\u001b[0m7.08 Done \u001b[0m\n"
     ]
    }
   ],
   "source": [
    "\n",
    "async def example2_await_before_next_write_fixed_function():\n",
    "    log(\"Starting\", start=True)\n",
    "    lastWrite = None\n",
    "    for i in range(3):\n",
    "        do_cpu_work(i)\n",
    "        if lastWrite:\n",
    "            await lastWrite\n",
    "        lastWrite = write_output_awaitable(i)\n",
    "    log(\"Awaiting last write\")\n",
    "    await lastWrite\n",
    "    log(\"Done\")\n",
    "\n",
    "await example2_await_before_next_write_fixed_function()"
   ]
  },
  {
   "attachments": {},
   "cell_type": "markdown",
   "metadata": {},
   "source": [
    "# Dirty Hack\n",
    "\n",
    "Here is an attempt at writing a decorator that immediately invokes the coroutine to execute until its first `await`:\n",
    "\n",
    "(I'm sure someone more knowledgeable than me can come up with a much prettier/better implementation)"
   ]
  },
  {
   "cell_type": "code",
   "execution_count": 13,
   "metadata": {},
   "outputs": [],
   "source": [
    "def js_like_await(coro):\n",
    "    class JSLikeCoroutine:\n",
    "        def __init__(self, awaitable, coro_obj):\n",
    "            self.awaitable = awaitable\n",
    "            self.coro_obj = coro_obj\n",
    "        def __await__(self):\n",
    "            try:\n",
    "                yield self.awaitable\n",
    "                while True:\n",
    "                    yield self.coro_obj.send(None)\n",
    "            except StopIteration as e:\n",
    "                return e.value\n",
    "    def coroutine_with_js_like_await(*args, **kwargs):\n",
    "        coro_obj = coro(*args, **kwargs)\n",
    "        future = None\n",
    "        try:\n",
    "            future = coro_obj.send(None)\n",
    "            return JSLikeCoroutine(future, coro_obj)\n",
    "        except StopIteration as e:\n",
    "            result = asyncio.Future()\n",
    "            result.set_result(e.value)\n",
    "            return result\n",
    "        \n",
    "    return coroutine_with_js_like_await\n"
   ]
  },
  {
   "attachments": {},
   "cell_type": "markdown",
   "metadata": {},
   "source": [
    "With this decorator, we can fix our `write_output_async` to be useful without requiring a task or event loop."
   ]
  },
  {
   "cell_type": "code",
   "execution_count": 14,
   "metadata": {},
   "outputs": [
    {
     "name": "stdout",
     "output_type": "stream",
     "text": [
      "\u001b[0m0.00 Starting \u001b[0m\n",
      "\u001b[93m0.00 [X0] > Starting 10s CPU work 0 \u001b[0m\n",
      "\u001b[93m2.02 [X0] < Done with 10s CPU work 0 \u001b[0m\n",
      "\u001b[0m2.02 [O0] >> Tell OS to write output 0 \u001b[0m\n",
      "\u001b[94m2.02 [W0] >>> OS started writing 0 \u001b[0m\n",
      "\u001b[93m2.02 [X1] > Starting 10s CPU work 1 \u001b[0m\n",
      "\u001b[93m4.05 [X1] < Done with 10s CPU work 1 \u001b[0m\n",
      "\u001b[94m4.05 [W0] <<< OS done writing 0 \u001b[0m\n",
      "\u001b[0m4.05 [O0] << OS writing completed 0 \u001b[0m\n",
      "\u001b[0m4.05 [O1] >> Tell OS to write output 1 \u001b[0m\n",
      "\u001b[94m4.05 [W1] >>> OS started writing 1 \u001b[0m\n",
      "\u001b[93m4.05 [X2] > Starting 10s CPU work 2 \u001b[0m\n",
      "\u001b[93m6.07 [X2] < Done with 10s CPU work 2 \u001b[0m\n",
      "\u001b[94m6.07 [W1] <<< OS done writing 1 \u001b[0m\n",
      "\u001b[0m6.07 [O1] << OS writing completed 1 \u001b[0m\n",
      "\u001b[0m6.07 [O2] >> Tell OS to write output 2 \u001b[0m\n",
      "\u001b[94m6.07 [W2] >>> OS started writing 2 \u001b[0m\n",
      "\u001b[0m6.07 Awaiting last write \u001b[0m\n",
      "\u001b[94m7.08 [W2] <<< OS done writing 2 \u001b[0m\n",
      "\u001b[0m7.08 [O2] << OS writing completed 2 \u001b[0m\n",
      "\u001b[0m7.08 Done \u001b[0m\n"
     ]
    }
   ],
   "source": [
    "fixed_write_output_async = js_like_await(write_output_async)\n",
    "\n",
    "async def example10_fixed_write_with_gather():\n",
    "    log(\"Starting\", start=True)\n",
    "    lastWrite = None\n",
    "    for i in range(3):\n",
    "        do_cpu_work(i)\n",
    "        if lastWrite:\n",
    "            await lastWrite\n",
    "        lastWrite = fixed_write_output_async(i)\n",
    "    log(\"Awaiting last write\")\n",
    "    await lastWrite\n",
    "    log(\"Done\")\n",
    "\n",
    "await example10_fixed_write_with_gather()"
   ]
  }
 ],
 "metadata": {
  "kernelspec": {
   "display_name": "Python 3 (ipykernel)",
   "language": "python",
   "name": "python3"
  },
  "language_info": {
   "codemirror_mode": {
    "name": "ipython",
    "version": 3
   },
   "file_extension": ".py",
   "mimetype": "text/x-python",
   "name": "python",
   "nbconvert_exporter": "python",
   "pygments_lexer": "ipython3",
   "version": "3.11.3"
  },
  "vscode": {
   "interpreter": {
    "hash": "150d3a3f910051c434cc5402830167245c6b196c581d26718fa3cb4fdf068481"
   }
  }
 },
 "nbformat": 4,
 "nbformat_minor": 4
}
